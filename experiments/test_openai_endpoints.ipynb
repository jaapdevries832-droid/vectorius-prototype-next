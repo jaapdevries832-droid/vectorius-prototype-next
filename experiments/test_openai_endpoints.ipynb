{
 "cells": [
  {
   "cell_type": "markdown",
   "id": "7997f269",
   "metadata": {},
   "source": [
    "# 🔬 Vectorius – Test Jaapd Azure OpenAI Deployment\n",
    "\n",
    "This notebook connects to your **working Azure OpenAI deployment**:\n",
    "\n",
    "- **Resource**: `jaapd-meryoqet-eastus2`\n",
    "- **Deployment name**: `gpt-4o-mini`\n",
    "- **Endpoint**: `https://jaapd-meryoqet-eastus2.openai.azure.com/`\n",
    "\n",
    "We’ll:\n",
    "1. Load credentials from `.env.local`\n",
    "2. Initialize the Azure OpenAI client\n",
    "3. Send a test chat completion\n",
    "4. Display the response"
   ]
  },
  {
   "cell_type": "code",
   "execution_count": 7,
   "id": "9fd619ab",
   "metadata": {},
   "outputs": [
    {
     "data": {
      "text/plain": [
       "True"
      ]
     },
     "execution_count": 7,
     "metadata": {},
     "output_type": "execute_result"
    }
   ],
   "source": [
    "import os\n",
    "from dotenv import load_dotenv\n",
    "from openai import AzureOpenAI\n",
    "\n",
    "# Load variables from web/.env.local\n",
    "load_dotenv(dotenv_path=\"../web/.env.local\")"
   ]
  },
  {
   "cell_type": "markdown",
   "id": "56863bd8",
   "metadata": {},
   "source": [
    "## 1. Grab environment variables\n",
    "We expect the following entries in your `.env.local`:\n",
    "```ini\n",
    "AZURE_OPENAI_ENDPOINT=https://jaapd-meryoqet-eastus2.openai.azure.com/\n",
    "AZURE_OPENAI_API_KEY=YOUR_KEY\n",
    "AZURE_OPENAI_DEPLOYMENT=gpt-4o-mini\n",
    "```"
   ]
  },
  {
   "cell_type": "code",
   "execution_count": 8,
   "id": "85d519c0",
   "metadata": {},
   "outputs": [
    {
     "name": "stdout",
     "output_type": "stream",
     "text": [
      "Endpoint: https://vectorius-openai.openai.azure.com/\n",
      "Deployment: gpt-4.1-mini\n",
      "Key loaded: ✔️\n"
     ]
    }
   ],
   "source": [
    "endpoint = os.getenv(\"AZURE_OPENAI_ENDPOINT\")\n",
    "key = os.getenv(\"AZURE_OPENAI_API_KEY\")\n",
    "deployment = os.getenv(\"AZURE_OPENAI_DEPLOYMENT\")\n",
    "\n",
    "print(\"Endpoint:\", endpoint)\n",
    "print(\"Deployment:\", deployment)\n",
    "print(\"Key loaded:\", \"✔️\" if key else \"❌\")"
   ]
  },
  {
   "cell_type": "markdown",
   "id": "04ce9661",
   "metadata": {},
   "source": [
    "## 2. Initialize the Azure OpenAI client"
   ]
  },
  {
   "cell_type": "code",
   "execution_count": 9,
   "id": "26369828",
   "metadata": {},
   "outputs": [],
   "source": [
    "client = AzureOpenAI(\n",
    "    api_key=key,\n",
    "    api_version=\"2024-12-01-preview\",  # SDK version string\n",
    "    azure_endpoint=endpoint\n",
    ")"
   ]
  },
  {
   "cell_type": "markdown",
   "id": "04931b6e",
   "metadata": {},
   "source": [
    "## 3. Send a test chat prompt\n",
    "We’ll ask the model to confirm it’s alive and responding."
   ]
  },
  {
   "cell_type": "code",
   "execution_count": 10,
   "id": "59b9e8aa",
   "metadata": {},
   "outputs": [
    {
     "name": "stdout",
     "output_type": "stream",
     "text": [
      "❌ Error calling endpoint: Error code: 404 - {'error': {'code': 'DeploymentNotFound', 'message': 'The API deployment for this resource does not exist. If you created the deployment within the last 5 minutes, please wait a moment and try again.'}}\n"
     ]
    }
   ],
   "source": [
    "try:\n",
    "    response = client.chat.completions.create(\n",
    "        model=deployment,  # must match your deployment name exactly\n",
    "        messages=[{\"role\": \"user\", \"content\": \"Hello Jaapd GPT-4o-mini, can you confirm you're alive?\"}]\n",
    "    )\n",
    "    print(response.choices[0].message)\n",
    "except Exception as e:\n",
    "    print(\"❌ Error calling endpoint:\", e)"
   ]
  },
  {
   "cell_type": "markdown",
   "id": "95315e27",
   "metadata": {},
   "source": [
    "## ✅ Results\n",
    "If everything is configured correctly, you should see a response confirming the model is alive. If you get an error, double-check:\n",
    "- Endpoint matches: `https://jaapd-meryoqet-eastus2.openai.azure.com/`\n",
    "- Deployment name matches: `gpt-4o-mini`\n",
    "- Key is correct in `.env.local`"
   ]
  }
 ],
 "metadata": {
  "kernelspec": {
   "display_name": "Python 3",
   "language": "python",
   "name": "python3"
  },
  "language_info": {
   "codemirror_mode": {
    "name": "ipython",
    "version": 3
   },
   "file_extension": ".py",
   "mimetype": "text/x-python",
   "name": "python",
   "nbconvert_exporter": "python",
   "pygments_lexer": "ipython3",
   "version": "3.13.7"
  }
 },
 "nbformat": 4,
 "nbformat_minor": 5
}
