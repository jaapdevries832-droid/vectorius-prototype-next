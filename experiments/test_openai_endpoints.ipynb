{
 "cells": [
  {
   "cell_type": "markdown",
   "id": "7997f269",
   "metadata": {},
   "source": [
    "# 🔬 Vectorius – Test Jaapd Azure OpenAI Deployment\n",
    "\n",
    "This notebook connects to your **working Azure OpenAI deployment**:\n",
    "\n",
    "- **Resource**: `jaapd-meryoqet-eastus2`\n",
    "- **Deployment name**: `gpt-4o-mini`\n",
    "- **Endpoint**: `https://jaapd-meryoqet-eastus2.openai.azure.com/`\n",
    "\n",
    "We’ll:\n",
    "1. Load credentials from `.env.local`\n",
    "2. Initialize the Azure OpenAI client\n",
    "3. Send a test chat completion\n",
    "4. Display the response"
   ]
  },
  {
   "cell_type": "code",
   "execution_count": 1,
   "id": "9fd619ab",
   "metadata": {},
   "outputs": [
    {
     "data": {
      "text/plain": [
       "True"
      ]
     },
     "execution_count": 1,
     "metadata": {},
     "output_type": "execute_result"
    }
   ],
   "source": [
    "import os\n",
    "from dotenv import load_dotenv\n",
    "from openai import AzureOpenAI\n",
    "\n",
    "# Load variables from web/.env.local\n",
    "load_dotenv(dotenv_path=\"../web/.env.local\")"
   ]
  },
  {
   "cell_type": "markdown",
   "id": "56863bd8",
   "metadata": {},
   "source": [
    "## 1. Grab environment variables\n",
    "We expect the following entries in your `.env.local`:\n",
    "```ini\n",
    "AZURE_OPENAI_ENDPOINT=https://jaapd-meryoqet-eastus2.openai.azure.com/\n",
    "AZURE_OPENAI_API_KEY=YOUR_KEY\n",
    "AZURE_OPENAI_DEPLOYMENT=gpt-4o-mini\n",
    "```"
   ]
  },
  {
   "cell_type": "code",
   "execution_count": 2,
   "id": "85d519c0",
   "metadata": {},
   "outputs": [
    {
     "name": "stdout",
     "output_type": "stream",
     "text": [
      "Endpoint: https://jaapd-meryoqet-eastus2.cognitiveservices.azure.com/\n",
      "Deployment: gpt-4.1-mini-vectorius\n",
      "Key loaded: ✔️\n"
     ]
    }
   ],
   "source": [
    "endpoint = os.getenv(\"AZURE_OPENAI_ENDPOINT\")\n",
    "key = os.getenv(\"AZURE_OPENAI_API_KEY\")\n",
    "deployment = os.getenv(\"AZURE_OPENAI_DEPLOYMENT\")\n",
    "\n",
    "print(\"Endpoint:\", endpoint)\n",
    "print(\"Deployment:\", deployment)\n",
    "print(\"Key loaded:\", \"✔️\" if key else \"❌\")"
   ]
  },
  {
   "cell_type": "markdown",
   "id": "04ce9661",
   "metadata": {},
   "source": [
    "## 2. Initialize the Azure OpenAI client"
   ]
  },
  {
   "cell_type": "code",
   "execution_count": 3,
   "id": "26369828",
   "metadata": {},
   "outputs": [],
   "source": [
    "client = AzureOpenAI(\n",
    "    api_key=key,\n",
    "    api_version=\"2025-01-01-preview\",  # SDK version string\n",
    "    azure_endpoint=endpoint\n",
    ")"
   ]
  },
  {
   "cell_type": "markdown",
   "id": "04931b6e",
   "metadata": {},
   "source": [
    "## 3. Send a test chat prompt\n",
    "We’ll ask the model to confirm it’s alive and responding."
   ]
  },
  {
   "cell_type": "code",
   "execution_count": 4,
   "id": "59b9e8aa",
   "metadata": {},
   "outputs": [
    {
     "name": "stdout",
     "output_type": "stream",
     "text": [
      "ChatCompletionMessage(content=\"Hello! I'm here and ready to help. While I’m not alive, I’m fully operational and ready to assist you. How can I assist you today?\", refusal=None, role='assistant', annotations=[], audio=None, function_call=None, tool_calls=None)\n"
     ]
    }
   ],
   "source": [
    "try:\n",
    "    response = client.chat.completions.create(\n",
    "        model=deployment,  # must match your deployment name exactly\n",
    "        messages=[{\"role\": \"user\", \"content\": \"Hello Jaapd GPT-4o-mini, can you confirm you're alive?\"}]\n",
    "    )\n",
    "    print(response.choices[0].message)\n",
    "except Exception as e:\n",
    "    print(\"❌ Error calling endpoint:\", e)"
   ]
  },
  {
   "cell_type": "code",
   "execution_count": null,
   "id": "a10a232f",
   "metadata": {},
   "outputs": [],
   "source": []
  },
  {
   "cell_type": "markdown",
   "id": "95315e27",
   "metadata": {},
   "source": [
    "## ✅ Results\n",
    "If everything is configured correctly, you should see a response confirming the model is alive. If you get an error, double-check:\n",
    "- Endpoint matches: `https://jaapd-meryoqet-eastus2.openai.azure.com/`\n",
    "- Deployment name matches: `gpt-4o-mini`\n",
    "- Key is correct in `.env.local`"
   ]
  },
  {
   "cell_type": "code",
   "execution_count": 5,
   "id": "9d0a040f",
   "metadata": {},
   "outputs": [
    {
     "name": "stdout",
     "output_type": "stream",
     "text": [
      "That’s wonderful! Paris is full of amazing sights and experiences. Here are some must-see attractions and activities:\n",
      "\n",
      "1. **Eiffel Tower** – The iconic symbol of Paris. Consider going up for a panoramic view of the city.\n",
      "2. **Louvre Museum** – Home to thousands of artworks including the Mona Lisa and the Venus de Milo.\n",
      "3. **Notre-Dame Cathedral** – A masterpiece of Gothic architecture (note: check current visiting status due to restoration).\n",
      "4. **Champs-Élysées & Arc de Triomphe** – A famous avenue for shopping and dining leading to the monumental arch.\n",
      "5. **Montmartre & Sacré-Cœur Basilica** – A charming neighborhood with artistic history and a beautiful basilica offering views over Paris.\n",
      "6. **Seine River Cruise** – A relaxing way to see many landmarks from the water, especially beautiful at night.\n",
      "7. **Musée d'Orsay** – Impressionist masterpieces in a stunning former railway station.\n",
      "8. **Palace of Versailles** – Just outside Paris, an opulent royal palace with magnificent gardens.\n",
      "9. **Latin Quarter** – Explore narrow streets, cafes, and bookshops with a lively student atmosphere.\n",
      "10. **Luxembourg Gardens** – Perfect for a peaceful stroll or picnic.\n",
      "\n",
      "Don’t forget to enjoy Parisian cuisine at local cafés and bakeries—croissants, baguettes, cheese, and wine are a must! If you have specific interests, I can tailor recommendations further. Have a great trip!\n"
     ]
    }
   ],
   "source": [
    "import os\n",
    "from openai import AzureOpenAI\n",
    "\n",
    "# endpoint = \"https://jaapd-meryoqet-eastus2.cognitiveservices.azure.com/\"\n",
    "# model_name = \"gpt-4.1-mini\"\n",
    "# deployment = \"gpt-4.1-mini-vectorius\"\n",
    "\n",
    "subscription_key = key\n",
    "api_version = \"2024-12-01-preview\"\n",
    "\n",
    "client = AzureOpenAI(\n",
    "    api_version=api_version,\n",
    "    azure_endpoint=endpoint,\n",
    "    api_key=subscription_key,\n",
    ")\n",
    "\n",
    "response = client.chat.completions.create(\n",
    "    messages=[\n",
    "        {\n",
    "            \"role\": \"system\",\n",
    "            \"content\": \"You are a helpful assistant.\",\n",
    "        },\n",
    "        {\n",
    "            \"role\": \"user\",\n",
    "            \"content\": \"I am going to Paris, what should I see?\",\n",
    "        }\n",
    "    ],\n",
    "    max_completion_tokens=13107,\n",
    "    temperature=1.0,\n",
    "    top_p=1.0,\n",
    "    frequency_penalty=0.0,\n",
    "    presence_penalty=0.0,\n",
    "    model=deployment\n",
    ")\n",
    "\n",
    "print(response.choices[0].message.content)"
   ]
  }
 ],
 "metadata": {
  "kernelspec": {
   "display_name": "Python 3",
   "language": "python",
   "name": "python3"
  },
  "language_info": {
   "codemirror_mode": {
    "name": "ipython",
    "version": 3
   },
   "file_extension": ".py",
   "mimetype": "text/x-python",
   "name": "python",
   "nbconvert_exporter": "python",
   "pygments_lexer": "ipython3",
   "version": "3.13.7"
  }
 },
 "nbformat": 4,
 "nbformat_minor": 5
}
